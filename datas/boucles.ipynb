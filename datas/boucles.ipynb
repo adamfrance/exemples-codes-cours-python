{
 "cells": [
  {
   "cell_type": "code",
   "execution_count": 1,
   "metadata": {},
   "outputs": [
    {
     "name": "stdout",
     "output_type": "stream",
     "text": [
      "34\n",
      "78\n",
      "67\n",
      "78\n"
     ]
    }
   ],
   "source": [
    "liste1 = [34, 78, 67, 78]\n",
    "for element in liste1:\n",
    "    print(element)"
   ]
  },
  {
   "cell_type": "code",
   "execution_count": 3,
   "metadata": {},
   "outputs": [
    {
     "name": "stdout",
     "output_type": "stream",
     "text": [
      "1\n",
      "2\n",
      "3\n",
      "4\n",
      "5\n",
      "6\n",
      "7\n",
      "8\n",
      "9\n",
      "10\n",
      "11\n",
      "12\n",
      "13\n"
     ]
    }
   ],
   "source": [
    "fin = 14\n",
    "for i in range(1, fin):\n",
    "    print(i)"
   ]
  },
  {
   "cell_type": "code",
   "execution_count": 7,
   "metadata": {},
   "outputs": [
    {
     "name": "stdout",
     "output_type": "stream",
     "text": [
      "10\n",
      "11\n",
      "12\n",
      "13\n",
      "14\n"
     ]
    }
   ],
   "source": [
    "# while\n",
    "x = 10\n",
    "while x < 15:\n",
    "    print(x)\n",
    "    x += 1"
   ]
  },
  {
   "cell_type": "code",
   "execution_count": 11,
   "metadata": {},
   "outputs": [
    {
     "name": "stdout",
     "output_type": "stream",
     "text": [
      "1 est impair\n",
      "3 est impair\n",
      "5 est impair\n",
      "6\n",
      "Valeur trouvée: boucle arrêtée\n"
     ]
    }
   ],
   "source": [
    "# break ==> couper un boucle ==> arrêt total\n",
    "# continue ==> saute l'occurrence\n",
    "for i in range(10):\n",
    "    if i == 6:\n",
    "        print(i)\n",
    "        print(\"Valeur trouvée: boucle arrêtée\")\n",
    "        break\n",
    "    if i % 2 == 0:\n",
    "        continue\n",
    "    print(f\"{i} est impair\")"
   ]
  },
  {
   "cell_type": "code",
   "execution_count": null,
   "metadata": {},
   "outputs": [],
   "source": [
    "for i in range(10):\n",
    "    if i % 2 == 0:\n",
    "        continue\n",
    "    # instructions ..."
   ]
  },
  {
   "cell_type": "code",
   "execution_count": 12,
   "metadata": {},
   "outputs": [
    {
     "name": "stdout",
     "output_type": "stream",
     "text": [
      "nom\n",
      "age\n",
      "langages\n"
     ]
    }
   ],
   "source": [
    "# boucles sur un dictionnaire\n",
    "personne = {\"nom\": \"Jacques\", \"age\": 30, \"langages\": [\"python\", \"javascript\"]}\n",
    "for key in personne:\n",
    "    print(key)"
   ]
  },
  {
   "cell_type": "code",
   "execution_count": 13,
   "metadata": {},
   "outputs": [
    {
     "name": "stdout",
     "output_type": "stream",
     "text": [
      "Jacques\n",
      "30\n",
      "['python', 'javascript']\n"
     ]
    }
   ],
   "source": [
    "for valeur in personne.values():\n",
    "    print(valeur)"
   ]
  },
  {
   "cell_type": "code",
   "execution_count": 14,
   "metadata": {},
   "outputs": [
    {
     "name": "stdout",
     "output_type": "stream",
     "text": [
      "nom ==> Jacques\n",
      "age ==> 30\n",
      "langages ==> ['python', 'javascript']\n"
     ]
    }
   ],
   "source": [
    "for cle, valeur in personne.items():\n",
    "    print(f\"{cle} ==> {valeur}\")"
   ]
  },
  {
   "cell_type": "code",
   "execution_count": 15,
   "metadata": {},
   "outputs": [
    {
     "data": {
      "text/plain": [
       "{'age': 30, 'langages': ['python', 'javascript']}"
      ]
     },
     "execution_count": 15,
     "metadata": {},
     "output_type": "execute_result"
    }
   ],
   "source": [
    "personne.pop(\"nom\")\n",
    "personne"
   ]
  },
  {
   "cell_type": "code",
   "execution_count": 16,
   "metadata": {},
   "outputs": [
    {
     "name": "stdout",
     "output_type": "stream",
     "text": [
      "La clé nom a bien été effacée\n"
     ]
    }
   ],
   "source": [
    "if \"nom\" not in personne:\n",
    "    print(\"La clé nom a bien été effacée\")"
   ]
  },
  {
   "cell_type": "code",
   "execution_count": 17,
   "metadata": {},
   "outputs": [
    {
     "data": {
      "text/plain": [
       "{2: 4, 3: 9, 4: 16, 5: 25, 6: 36}"
      ]
     },
     "execution_count": 17,
     "metadata": {},
     "output_type": "execute_result"
    }
   ],
   "source": [
    "carres = { x: x**2 for x in range(2,7) }\n",
    "carres"
   ]
  }
 ],
 "metadata": {
  "kernelspec": {
   "display_name": "Python 3",
   "language": "python",
   "name": "python3"
  },
  "language_info": {
   "codemirror_mode": {
    "name": "ipython",
    "version": 3
   },
   "file_extension": ".py",
   "mimetype": "text/x-python",
   "name": "python",
   "nbconvert_exporter": "python",
   "pygments_lexer": "ipython3",
   "version": "3.11.0"
  }
 },
 "nbformat": 4,
 "nbformat_minor": 2
}
