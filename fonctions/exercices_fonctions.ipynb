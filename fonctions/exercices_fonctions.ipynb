{
 "cells": [
  {
   "cell_type": "code",
   "execution_count": 7,
   "metadata": {},
   "outputs": [
    {
     "data": {
      "text/plain": [
       "[{'id': 1, 'name': 'Alice', 'age': 30},\n",
       " {'id': 2, 'name': 'Bob', 'location': 'Paris'},\n",
       " {'id': 3, 'name': 'Charlie', 'age': 25, 'location': 'Berlin'}]"
      ]
     },
     "execution_count": 7,
     "metadata": {},
     "output_type": "execute_result"
    }
   ],
   "source": [
    "# structure des datas : dictionnaires dans une liste\n",
    "# fusionner des listes ==> * \n",
    "dataset1 = [{'id': 1, 'name': 'Alice'}, {'id': 2, 'name': 'Bob'}]\n",
    "dataset2 = [{'id': 1, 'age': 30}, {'id': 3, 'name': 'Charlie', 'age': 25}]\n",
    "dataset3 = [{'id': 2, 'location': 'Paris'}, {'id': 3, 'location': 'Berlin'}]\n",
    "\n",
    "def merge_data(*args, **kwargs):\n",
    "    identifier = kwargs.get('identifier', 'id')\n",
    "    merged_data = {}\n",
    "    \n",
    "    for dataset in args:\n",
    "        for record in dataset:\n",
    "            key = record.get(identifier)\n",
    "            if key:\n",
    "                if key not in merged_data:\n",
    "                    merged_data[key] = record\n",
    "                else:\n",
    "                    merged_data[key].update(record)\n",
    "    \n",
    "    return list(merged_data.values())\n",
    "        \n",
    "merge_data(dataset1, dataset2, dataset3, identifier='id')"
   ]
  },
  {
   "cell_type": "code",
   "execution_count": 39,
   "metadata": {},
   "outputs": [
    {
     "name": "stdout",
     "output_type": "stream",
     "text": [
      "[[], [], []]\n"
     ]
    },
    {
     "data": {
      "text/plain": [
       "[[('David', 95), ('Charlie', 70)], [('Alice', 90), ('Eve', 60)], [('Bob', 85)]]"
      ]
     },
     "execution_count": 39,
     "metadata": {},
     "output_type": "execute_result"
    }
   ],
   "source": [
    "# Organiser les étudiants en groupe\n",
    "def group_students(*args, **kwargs):\n",
    "    num_groups = kwargs.get('num_groups')\n",
    "    students = sorted(args, key= lambda x: x[1], reverse=True)\n",
    "    \n",
    "    groups = [[] for _ in range(num_groups)]\n",
    "    print(groups)\n",
    "    # diviser par le nbe de groupe ==> nbe étudiants? \n",
    "    for i,student in enumerate(students):\n",
    "        groups[i % num_groups].append(student)\n",
    "    \n",
    "    return groups\n",
    "        \n",
    "\n",
    "\n",
    "students = [('Alice', 90), ('Bob', 85), ('Charlie', 70), ('David', 95), ('Eve', 60)]\n",
    "group_students(*students,num_groups=3)\n",
    "# groups = group_students(*students, num_groups=2)\n",
    "# print(groups)"
   ]
  }
 ],
 "metadata": {
  "kernelspec": {
   "display_name": "Python 3",
   "language": "python",
   "name": "python3"
  },
  "language_info": {
   "codemirror_mode": {
    "name": "ipython",
    "version": 3
   },
   "file_extension": ".py",
   "mimetype": "text/x-python",
   "name": "python",
   "nbconvert_exporter": "python",
   "pygments_lexer": "ipython3",
   "version": "3.11.0"
  }
 },
 "nbformat": 4,
 "nbformat_minor": 2
}
