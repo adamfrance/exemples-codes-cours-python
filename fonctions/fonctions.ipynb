{
 "cells": [
  {
   "cell_type": "markdown",
   "metadata": {},
   "source": [
    "### Fonctions\n",
    "- Factorise\n",
    "- Rappel ==> Evite la duplication\n",
    "- Organise le code en fonctionnalités\n",
    "- Cache les détails de la mise en oeuvre"
   ]
  },
  {
   "cell_type": "code",
   "execution_count": 2,
   "metadata": {},
   "outputs": [
    {
     "name": "stdout",
     "output_type": "stream",
     "text": [
      "dans le scope local test:  1\n",
      "dans le scope global:  0\n"
     ]
    }
   ],
   "source": [
    "def my_function():\n",
    "    test = 1 # test est définie dans le scope local\n",
    "    print('dans le scope local test: ', test)\n",
    "\n",
    "test = 0\n",
    "my_function()\n",
    "print('dans le scope global: ', test)"
   ]
  },
  {
   "cell_type": "code",
   "execution_count": 3,
   "metadata": {},
   "outputs": [
    {
     "name": "stdout",
     "output_type": "stream",
     "text": [
      "inner scope:  2\n",
      "outer:  1\n",
      "dans le scope global:  0\n"
     ]
    }
   ],
   "source": [
    "# Niveaux de scope imbriqués\n",
    "def outer():\n",
    "    test = 1 # scope outer\n",
    "    def inner():\n",
    "        test = 2\n",
    "        print('inner scope: ', test)\n",
    "    inner()\n",
    "    print('outer: ', test)\n",
    "\n",
    "test = 0\n",
    "outer()\n",
    "print('dans le scope global: ', test)\n",
    "        "
   ]
  },
  {
   "cell_type": "code",
   "execution_count": 5,
   "metadata": {},
   "outputs": [
    {
     "name": "stdout",
     "output_type": "stream",
     "text": [
      "inner scope:  0\n",
      "outer:  1\n",
      "dans le scope global:  0\n"
     ]
    }
   ],
   "source": [
    "# nonlocal ou global\n",
    "def outer():\n",
    "    test = 1 # scope outer\n",
    "    def inner():\n",
    "        # nonlocal test # récupère valeur du scope supérieur\n",
    "        global test\n",
    "        print('inner scope: ', test)\n",
    "    inner()\n",
    "    print('outer: ', test)\n",
    "\n",
    "test = 0\n",
    "outer()\n",
    "print('dans le scope global: ', test)"
   ]
  },
  {
   "cell_type": "code",
   "execution_count": 8,
   "metadata": {},
   "outputs": [
    {
     "name": "stdout",
     "output_type": "stream",
     "text": [
      "3\n"
     ]
    }
   ],
   "source": [
    "# paramètres\n",
    "x = 3\n",
    "def func(y):\n",
    "    print(y)\n",
    "func(x)"
   ]
  },
  {
   "cell_type": "code",
   "execution_count": 11,
   "metadata": {},
   "outputs": [
    {
     "name": "stdout",
     "output_type": "stream",
     "text": [
      "8 5 5\n"
     ]
    }
   ],
   "source": [
    "def func2(a,b,c):\n",
    "    print(a,b,c)\n",
    "func2(8,b=5,c=5)"
   ]
  },
  {
   "cell_type": "code",
   "execution_count": 17,
   "metadata": {},
   "outputs": [
    {
     "name": "stdout",
     "output_type": "stream",
     "text": [
      "1 7 6\n"
     ]
    }
   ],
   "source": [
    "# itérable en arguments\n",
    "values = (1,7,9)\n",
    "liste1 = [1,7,6]\n",
    "func2(*liste1)"
   ]
  },
  {
   "cell_type": "code",
   "execution_count": 19,
   "metadata": {},
   "outputs": [
    {
     "name": "stdout",
     "output_type": "stream",
     "text": [
      "b c a\n"
     ]
    }
   ],
   "source": [
    "dic1 = {'b': 2, 'c': 8, 'a': 6}\n",
    "func2(*dic1) "
   ]
  },
  {
   "cell_type": "code",
   "execution_count": 21,
   "metadata": {},
   "outputs": [
    {
     "name": "stdout",
     "output_type": "stream",
     "text": [
      "9 2 4 0 4 5\n"
     ]
    }
   ],
   "source": [
    "def func3(a,b,c,d,e,f):\n",
    "    print(a,b,c,d,e,f)\n",
    "\n",
    "# a, e ==> int\n",
    "# b,c,d ==> proviennent d'un tuple\n",
    "# f ==> un dictionnaire avec une clé, utiliser la valeur de la clé\n",
    "\n",
    "func3(9,*(2,4,0),4,**{'f': 5})"
   ]
  },
  {
   "cell_type": "code",
   "execution_count": 24,
   "metadata": {},
   "outputs": [],
   "source": [
    "# Paramètres de position variables\n",
    "def minimum(*n):\n",
    "    if n:\n",
    "        mn = n[0]\n",
    "        for value in n[1:]:\n",
    "            if value < mn:\n",
    "                mn = value\n",
    "        print(mn)\n",
    "\n",
    "# minimum(1,9,-6,7)\n",
    "minimum()"
   ]
  },
  {
   "cell_type": "code",
   "execution_count": 25,
   "metadata": {},
   "outputs": [
    {
     "name": "stdout",
     "output_type": "stream",
     "text": [
      "{'a': 1, 'b': 3, 'e': 8, 'u': 0}\n"
     ]
    }
   ],
   "source": [
    "# paramètres de mots-clés variables\n",
    "def func5(**kwargs):\n",
    "    print(kwargs)\n",
    "\n",
    "func5(a=1,b=3,e=8,u=0)\n"
   ]
  },
  {
   "cell_type": "code",
   "execution_count": 26,
   "metadata": {},
   "outputs": [
    {
     "name": "stdout",
     "output_type": "stream",
     "text": [
      "{'host': '127.0.0.1', 'port': 5432, 'user': '', 'pwd': ''}\n",
      "{'host': '123.89.56.23', 'port': 5432, 'user': '', 'pwd': ''}\n",
      "{'host': '123.89.56.23', 'port': 5544, 'user': '', 'pwd': ''}\n"
     ]
    }
   ],
   "source": [
    "def connect_db(**options):\n",
    "    conn_params = {\n",
    "            'host': options.get('host', '127.0.0.1'),\n",
    "            'port': options.get('port', 5432),\n",
    "            'user': options.get('user', ''),\n",
    "            'pwd': options.get('pwd', ''),\n",
    "        }\n",
    "    print(conn_params)\n",
    "\n",
    "connect_db()\n",
    "connect_db(host='123.89.56.23')\n",
    "connect_db(port=5544,host='123.89.56.23')\n"
   ]
  },
  {
   "cell_type": "markdown",
   "metadata": {},
   "source": [
    "### Signature de fonction: position des arguments, mots-clés\n",
    "##### Paramètre en argument: / ==> Paramètre de position uniquement"
   ]
  },
  {
   "cell_type": "code",
   "execution_count": 31,
   "metadata": {},
   "outputs": [
    {
     "name": "stdout",
     "output_type": "stream",
     "text": [
      "3 6 8\n"
     ]
    }
   ],
   "source": [
    "# fonction avec 3 paramètres\n",
    "# keyword ==> c=3, mais impossible a=1, b=6\n",
    "def func6(a,b,/,c):\n",
    "    print(a,b,c)\n",
    "\n",
    "func6(3,6,8)"
   ]
  },
  {
   "cell_type": "code",
   "execution_count": null,
   "metadata": {},
   "outputs": [],
   "source": []
  },
  {
   "cell_type": "code",
   "execution_count": 30,
   "metadata": {},
   "outputs": [
    {
     "name": "stdout",
     "output_type": "stream",
     "text": [
      "argument de position\n",
      "{'name': 'Nom dans les kwargs', 'adresse': 'Lille'}\n"
     ]
    }
   ],
   "source": [
    "def func7(name, /, **kwargs):\n",
    "    print(name)\n",
    "    print(kwargs)\n",
    "\n",
    "func7('argument de position', name='Nom dans les kwargs', adresse='Lille')"
   ]
  },
  {
   "cell_type": "code",
   "execution_count": 34,
   "metadata": {},
   "outputs": [
    {
     "name": "stdout",
     "output_type": "stream",
     "text": [
      "None\n"
     ]
    }
   ],
   "source": [
    "# possibilité d'utiliser autant de return que nécessaire\n",
    "# si pas de return ou seulement 'return' ==> renvoie None\n",
    "def func8():\n",
    "    pass\n",
    "func8()\n",
    "a = func8()\n",
    "print(a)"
   ]
  },
  {
   "cell_type": "code",
   "execution_count": 35,
   "metadata": {},
   "outputs": [
    {
     "data": {
      "text/plain": [
       "362880"
      ]
     },
     "execution_count": 35,
     "metadata": {},
     "output_type": "execute_result"
    }
   ],
   "source": [
    "from functools import reduce\n",
    "from operator import mul\n",
    "def factorial(n):\n",
    "    return reduce(mul, range(1, n+1), 1)\n",
    "\n",
    "f9 = factorial(9)\n",
    "f9"
   ]
  },
  {
   "cell_type": "markdown",
   "metadata": {},
   "source": [
    "### Rôle des fonctions:\n",
    "- Une fonction ==> une seule action\n",
    "- Fonctions petites ==> tests\n",
    "- Moins de paramètres ==> mieux\n",
    "- cohérentes avec les valeurs de retour => False et None différents mais en booléen identiques\n",
    "- Effets de bords "
   ]
  },
  {
   "cell_type": "markdown",
   "metadata": {},
   "source": [
    "### Fonctions anonymes\n",
    "- lambdas\n",
    "- travail simple et rapide"
   ]
  },
  {
   "cell_type": "code",
   "execution_count": 36,
   "metadata": {},
   "outputs": [
    {
     "data": {
      "text/plain": [
       "[0, 5]"
      ]
     },
     "execution_count": 36,
     "metadata": {},
     "output_type": "execute_result"
    }
   ],
   "source": [
    "def multiple_cinq(n):\n",
    "    return not n % 5\n",
    "def recup_multiple_cinq(n):\n",
    "    return list(filter(multiple_cinq,range(n)))\n",
    "\n",
    "# équivaut à:\n",
    "def recup_multiple_cinq2(n):\n",
    "    return list(filter(lambda k: not k % 5, range(n)))\n",
    "\n",
    "recup_multiple_cinq2(10)"
   ]
  },
  {
   "cell_type": "code",
   "execution_count": 37,
   "metadata": {},
   "outputs": [
    {
     "data": {
      "text/plain": [
       "14"
      ]
     },
     "execution_count": 37,
     "metadata": {},
     "output_type": "execute_result"
    }
   ],
   "source": [
    "ajout = lambda a,b: a + b\n",
    "ajout(5,9)"
   ]
  },
  {
   "cell_type": "code",
   "execution_count": null,
   "metadata": {},
   "outputs": [],
   "source": []
  }
 ],
 "metadata": {
  "kernelspec": {
   "display_name": "Python 3",
   "language": "python",
   "name": "python3"
  },
  "language_info": {
   "codemirror_mode": {
    "name": "ipython",
    "version": 3
   },
   "file_extension": ".py",
   "mimetype": "text/x-python",
   "name": "python",
   "nbconvert_exporter": "python",
   "pygments_lexer": "ipython3",
   "version": "3.11.0"
  }
 },
 "nbformat": 4,
 "nbformat_minor": 2
}
