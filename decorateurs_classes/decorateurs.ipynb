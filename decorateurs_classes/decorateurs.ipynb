{
 "cells": [
  {
   "cell_type": "code",
   "execution_count": 1,
   "metadata": {},
   "outputs": [
    {
     "name": "stdout",
     "output_type": "stream",
     "text": [
      "x prend:  0.30172300338745117\n",
      "y prend:  0.3051278591156006\n"
     ]
    }
   ],
   "source": [
    "from time import sleep, time\n",
    "def x():\n",
    "    sleep(.3)\n",
    "def y():\n",
    "    sleep(.3)\n",
    "t = time()\n",
    "x()\n",
    "print('x prend: ', time() - t)\n",
    "t = time()\n",
    "y()\n",
    "print('y prend: ', time() - t)"
   ]
  },
  {
   "cell_type": "code",
   "execution_count": 2,
   "metadata": {},
   "outputs": [
    {
     "name": "stdout",
     "output_type": "stream",
     "text": [
      "x prend:  0.30504822731018066\n",
      "y prend:  0.3050413131713867\n"
     ]
    }
   ],
   "source": [
    "from time import sleep, time\n",
    "def x():\n",
    "    sleep(.3)\n",
    "def y():\n",
    "    sleep(.3)\n",
    "def measure(func):\n",
    "    t = time()\n",
    "    func()\n",
    "    print(func.__name__, 'prend: ', time() - t)\n",
    "measure(x)\n",
    "measure(y)"
   ]
  },
  {
   "cell_type": "code",
   "execution_count": 9,
   "metadata": {},
   "outputs": [
    {
     "name": "stdout",
     "output_type": "stream",
     "text": [
      "x prend:  0.30502796173095703\n",
      "y prend:  0.3031930923461914\n",
      "1716469753.469943\n"
     ]
    }
   ],
   "source": [
    "from time import sleep, time\n",
    "def x(sleep_time=0.1):\n",
    "    sleep(sleep_time)\n",
    "def y(sleep_time=0.1):\n",
    "    sleep(sleep_time)\n",
    "def measure(func,*args, **kwargs):\n",
    "    t = time()\n",
    "    func(*args, **kwargs)\n",
    "    print(func.__name__, 'prend: ', time() - t)\n",
    "measure(x, sleep_time=0.3)\n",
    "measure(y, 0.3)\n",
    "print(time())"
   ]
  },
  {
   "cell_type": "code",
   "execution_count": 7,
   "metadata": {},
   "outputs": [
    {
     "name": "stdout",
     "output_type": "stream",
     "text": [
      "Fin exécution\n",
      "Temps bis exécution de z: 1.0051608085632324 s\n",
      "Temps exécution de wrapper: 1.0051801204681396 s\n"
     ]
    }
   ],
   "source": [
    "import time\n",
    "def timer(func):\n",
    "    def wrapper(*args, **kwargs):\n",
    "        start_time = time.time()\n",
    "        result = func(*args, **kwargs)\n",
    "        end_time = time.time()\n",
    "        print(f\"Temps exécution de {func.__name__}: {end_time - start_time} s\")\n",
    "        return result\n",
    "    return wrapper\n",
    "\n",
    "def timer2(func):\n",
    "    def wrapper(*args, **kwargs):\n",
    "        start_time = time.time()\n",
    "        result = func(*args, **kwargs)\n",
    "        end_time = time.time()\n",
    "        print(f\"Temps bis exécution de {func.__name__}: {end_time - start_time} s\")\n",
    "        return result\n",
    "    return wrapper\n",
    "\n",
    "@timer\n",
    "@timer2\n",
    "def z():\n",
    "   time.sleep(1)\n",
    "   print(\"Fin exécution\")\n",
    "\n",
    "z() \n",
    "        "
   ]
  },
  {
   "cell_type": "markdown",
   "metadata": {},
   "source": []
  }
 ],
 "metadata": {
  "kernelspec": {
   "display_name": "Python 3",
   "language": "python",
   "name": "python3"
  },
  "language_info": {
   "codemirror_mode": {
    "name": "ipython",
    "version": 3
   },
   "file_extension": ".py",
   "mimetype": "text/x-python",
   "name": "python",
   "nbconvert_exporter": "python",
   "pygments_lexer": "ipython3",
   "version": "3.11.0"
  }
 },
 "nbformat": 4,
 "nbformat_minor": 2
}
