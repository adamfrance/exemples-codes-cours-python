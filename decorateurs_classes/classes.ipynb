{
 "cells": [
  {
   "cell_type": "markdown",
   "metadata": {},
   "source": [
    "### P.O.O. ==> paradigme de programmation\n",
    "- design patterns\n",
    "- héritage\n",
    "- instanciation\n",
    "- membres de classe ==> variables\n",
    "- méthodes de classe\n",
    "- Décorateurs"
   ]
  },
  {
   "cell_type": "code",
   "execution_count": 4,
   "metadata": {},
   "outputs": [
    {
     "name": "stdout",
     "output_type": "stream",
     "text": [
      "<class 'type'>\n"
     ]
    },
    {
     "data": {
      "text/plain": [
       "__main__.laPlusSimple"
      ]
     },
     "execution_count": 4,
     "metadata": {},
     "output_type": "execute_result"
    }
   ],
   "source": [
    "class laPlusSimple:\n",
    "    pass\n",
    "\n",
    "print(type(laPlusSimple))\n",
    "simple = laPlusSimple()\n",
    "type(simple)"
   ]
  },
  {
   "cell_type": "code",
   "execution_count": 13,
   "metadata": {},
   "outputs": [
    {
     "name": "stdout",
     "output_type": "stream",
     "text": [
      "humain\n",
      "True\n",
      "humain\n",
      "True\n",
      "False\n",
      "Jacques\n"
     ]
    },
    {
     "ename": "AttributeError",
     "evalue": "type object 'Person' has no attribute 'prenom'",
     "output_type": "error",
     "traceback": [
      "\u001b[0;31m---------------------------------------------------------------------------\u001b[0m",
      "\u001b[0;31mAttributeError\u001b[0m                            Traceback (most recent call last)",
      "Cell \u001b[0;32mIn[13], line 14\u001b[0m\n\u001b[1;32m     12\u001b[0m homme\u001b[38;5;241m.\u001b[39mprenom \u001b[38;5;241m=\u001b[39m \u001b[38;5;124m'\u001b[39m\u001b[38;5;124mJacques\u001b[39m\u001b[38;5;124m'\u001b[39m\n\u001b[1;32m     13\u001b[0m \u001b[38;5;28mprint\u001b[39m(homme\u001b[38;5;241m.\u001b[39mprenom)\n\u001b[0;32m---> 14\u001b[0m \u001b[38;5;28mprint\u001b[39m(\u001b[43mPerson\u001b[49m\u001b[38;5;241;43m.\u001b[39;49m\u001b[43mprenom\u001b[49m)\n",
      "\u001b[0;31mAttributeError\u001b[0m: type object 'Person' has no attribute 'prenom'"
     ]
    }
   ],
   "source": [
    "class Person:\n",
    "    espece = 'humain'\n",
    "\n",
    "print(Person.espece)\n",
    "Person.vivant = True\n",
    "print(Person.vivant)\n",
    "homme = Person()\n",
    "print(homme.espece)\n",
    "print(homme.vivant)\n",
    "Person.vivant = False\n",
    "print(homme.vivant)\n",
    "homme.prenom = 'Jacques'\n",
    "print(homme.prenom)\n",
    "# print(Person.prenom) ==> existe pas"
   ]
  },
  {
   "cell_type": "code",
   "execution_count": 16,
   "metadata": {},
   "outputs": [
    {
     "data": {
      "text/plain": [
       "49"
      ]
     },
     "execution_count": 16,
     "metadata": {},
     "output_type": "execute_result"
    }
   ],
   "source": [
    "class Carre:\n",
    "    cote = 7\n",
    "    def surface(self):\n",
    "        return self.cote ** 2\n",
    "    \n",
    "carre1 = Carre()\n",
    "carre1.surface()\n",
    "Carre.surface(carre1)"
   ]
  },
  {
   "cell_type": "code",
   "execution_count": 19,
   "metadata": {},
   "outputs": [
    {
     "data": {
      "text/plain": [
       "272"
      ]
     },
     "execution_count": 19,
     "metadata": {},
     "output_type": "execute_result"
    }
   ],
   "source": [
    "class Rectangle:\n",
    "    def __init__(self, cote_a, cote_b):\n",
    "        self.cote_a = cote_a\n",
    "        self.cote_b = cote_b\n",
    "        \n",
    "    def aire(self):\n",
    "        return self.cote_a * self.cote_b\n",
    "    \n",
    "    \n",
    "rectangle1 = Rectangle(5,9)\n",
    "rectangle2 = Rectangle(8,34)\n",
    "rectangle1.aire()\n",
    "rectangle2.aire()\n"
   ]
  },
  {
   "cell_type": "code",
   "execution_count": 21,
   "metadata": {},
   "outputs": [
    {
     "name": "stdout",
     "output_type": "stream",
     "text": [
      "Démarre le moteur Moteur pour la voiture Voiture\n",
      "Démarre le moteur MoteurV8 pour la voiture VoitureCourse\n"
     ]
    }
   ],
   "source": [
    "# Héritage\n",
    "class Moteur:\n",
    "    def demarre(self):\n",
    "        pass\n",
    "    def stop(self):\n",
    "        pass\n",
    "    \n",
    "class MoteurElectrique(Moteur):\n",
    "    pass\n",
    "class MoteurV8(Moteur):\n",
    "    pass\n",
    "\n",
    "electric1 = MoteurElectrique()\n",
    "electric1.demarre()\n",
    "\n",
    "class Voiture:\n",
    "    type_moteur = Moteur\n",
    "    def __init__(self):\n",
    "        self.moteur = self.type_moteur()\n",
    "    \n",
    "    def start(self):\n",
    "        print('Démarre le moteur {0} pour la voiture {1}'.format(\n",
    "            self.moteur.__class__.__name__,\n",
    "            self.__class__.__name__\n",
    "            ))\n",
    "        self.moteur.demarre()\n",
    "        \n",
    "    def stop(self):\n",
    "        self.moteur.stop()\n",
    "\n",
    "class VoitureCourse(Voiture):\n",
    "     type_moteur = MoteurV8\n",
    "class VoitureVille(Voiture):\n",
    "     type_moteur = MoteurElectrique\n",
    "\n",
    "voiture = Voiture()\n",
    "voitureCourse = VoitureCourse()\n",
    "voitures = [voiture, voitureCourse]\n",
    "for voiture in voitures:\n",
    "    voiture.start()"
   ]
  },
  {
   "cell_type": "code",
   "execution_count": 1,
   "metadata": {},
   "outputs": [
    {
     "data": {
      "text/plain": [
       "'Lamoine'"
      ]
     },
     "execution_count": 1,
     "metadata": {},
     "output_type": "execute_result"
    }
   ],
   "source": [
    "# Toutes les classes viennent de object\n",
    "class Livre:\n",
    "    def __init__(self, titre, maison, pages):\n",
    "        self.titre = titre\n",
    "        self.maison = maison\n",
    "        self.pages = pages\n",
    "        \n",
    "class Ebook(Livre):\n",
    "    def __init__(self, titre, maison, pages, format_):\n",
    "        super().__init__(titre, maison, pages)\n",
    "        # ou Livre.__init__(titre, maison, pages)\n",
    "        self.format_ = format_\n",
    "    \n",
    "\n",
    "livreA = Livre(\"bonjour\", \"Lamoine\", 345)\n",
    "ebook1 = Ebook(\"bonjour\", \"Lamoine\", 345, \"pdf\")\n",
    "ebook1.maison"
   ]
  },
  {
   "cell_type": "code",
   "execution_count": null,
   "metadata": {},
   "outputs": [],
   "source": [
    "# autres types de méthode dans les classes\n",
    "# méthodes statiques et de classes\n",
    "# statique ==> que pour la classe (code de la classe) : Nom_Classe.method_static()\n",
    "# statique ==> aucun accès aux attributs de classe ni aux attributs des instances\n",
    "# statiques ==> ne fonctionne qu'avec les params de sa fonction\n",
    "class travailChaine:\n",
    "    @staticmethod\n",
    "    def est_palindrome(s, insensible_casse=True):\n",
    "        s = ''.join(c for c in s if c.isalnum())\n",
    "        if insensible_casse:\n",
    "            s = s.lower()\n",
    "        for c in range(len(s) // 2):\n",
    "            if s[c] != s[-c -1]:\n",
    "                return False\n",
    "        return True\n",
    "    \n",
    "    def longueurChaine():\n",
    "        pass\n",
    "\n",
    "travailChaine1 = travailChaine()\n",
    "travailChaine.est_palindrome()\n"
   ]
  },
  {
   "cell_type": "code",
   "execution_count": 9,
   "metadata": {},
   "outputs": [
    {
     "ename": "TypeError",
     "evalue": "Point.from_point() takes 2 positional arguments but 3 were given",
     "output_type": "error",
     "traceback": [
      "\u001b[0;31m---------------------------------------------------------------------------\u001b[0m",
      "\u001b[0;31mTypeError\u001b[0m                                 Traceback (most recent call last)",
      "Cell \u001b[0;32mIn[9], line 21\u001b[0m\n\u001b[1;32m     18\u001b[0m p\u001b[38;5;241m.\u001b[39my\n\u001b[1;32m     20\u001b[0m q \u001b[38;5;241m=\u001b[39m Point(\u001b[38;5;241m8\u001b[39m,\u001b[38;5;241m7\u001b[39m)\n\u001b[0;32m---> 21\u001b[0m \u001b[43mq\u001b[49m\u001b[38;5;241;43m.\u001b[39;49m\u001b[43mfrom_point\u001b[49m\u001b[43m(\u001b[49m\u001b[38;5;241;43m9\u001b[39;49m\u001b[43m,\u001b[49m\u001b[38;5;241;43m7\u001b[39;49m\u001b[43m)\u001b[49m\n",
      "\u001b[0;31mTypeError\u001b[0m: Point.from_point() takes 2 positional arguments but 3 were given"
     ]
    }
   ],
   "source": [
    "# méthodes de classe: appelée par la classe ou par l'instance\n",
    "# accès uniquement aux attributs de la classe (pas aux attributs des instances)\n",
    "class Point:\n",
    "    def __init__(self,x, y):\n",
    "        self.x = x\n",
    "        self.y = y\n",
    "    \n",
    "    @classmethod\n",
    "    def from_tuple(cls,coords): # cls signifie Point\n",
    "        return cls(*coords)\n",
    "    \n",
    "    @classmethod\n",
    "    def from_point(cls, point):\n",
    "        return cls(point.x, point.y)\n",
    "    \n",
    "p = Point.from_tuple((3,7))\n",
    "p.x\n",
    "p.y\n",
    "\n",
    "q = Point(8,7)\n"
   ]
  },
  {
   "cell_type": "code",
   "execution_count": null,
   "metadata": {},
   "outputs": [],
   "source": [
    "class travailChaine:\n",
    "    @staticmethod\n",
    "    def est_palindrome(s, insensible_casse=True):\n",
    "        s = ''.join(c for c in s if c.isalnum())\n",
    "        if insensible_casse:\n",
    "            s = s.lower()\n",
    "        for c in range(len(s) // 2):\n",
    "            if s[c] != s[-c -1]:\n",
    "                return False\n",
    "        return True\n",
    "    \n",
    "    @staticmethod\n",
    "    def _strip_string(s):\n",
    "        return ''.join(c for c in s if c.isalnum())\n",
    "   \n",
    "    @staticmethod\n",
    "    def _is_palindrome(s):\n",
    "        for c in range(len(s) // 2):\n",
    "            if s[c] != s[-c -1]:\n",
    "                return False\n",
    "        return True\n",
    "    \n",
    "    @staticmethod\n",
    "    def get_unique_words(sentence):\n",
    "        return set(sentence.split())\n"
   ]
  },
  {
   "cell_type": "code",
   "execution_count": null,
   "metadata": {},
   "outputs": [],
   "source": [
    "# mutilation dans les classes: \n",
    "# - nom sans underscore devant ==> public\n",
    "# - nom avec undescore devant ==> privé\n",
    " "
   ]
  },
  {
   "cell_type": "code",
   "execution_count": 15,
   "metadata": {},
   "outputs": [
    {
     "name": "stdout",
     "output_type": "stream",
     "text": [
      "Op1 avec le factor 100...\n",
      "Op2 avec le factor 42...\n",
      "Op1 avec le factor 100...\n"
     ]
    }
   ],
   "source": [
    "# mutilation ==> __factor dans A devient _A__factor et dans B devient _B__factor\n",
    "class A:\n",
    "    def __init__(self, factor):\n",
    "        self.__factor = factor\n",
    "    def op1(self):\n",
    "        print('Op1 avec le factor {}...'.format(self.__factor))\n",
    "\n",
    "class B(A):\n",
    "    def op2(self, factor):\n",
    "        self.__factor = factor\n",
    "        print('Op2 avec le factor {}...'.format(self.__factor))\n",
    "        \n",
    "obj = B(100)\n",
    "obj.op1()\n",
    "obj.op2(42)\n",
    "obj.op1()"
   ]
  },
  {
   "cell_type": "code",
   "execution_count": 16,
   "metadata": {},
   "outputs": [
    {
     "data": {
      "text/plain": [
       "2500.0"
      ]
     },
     "execution_count": 16,
     "metadata": {},
     "output_type": "execute_result"
    }
   ],
   "source": [
    "# classe de données\n",
    "# depuis Python 3.7\n",
    "from dataclasses import dataclass, field\n",
    "@dataclass\n",
    "class Corps:\n",
    "    '''Classe représentant un corps'''\n",
    "    nom: str\n",
    "    poids: float = 0.\n",
    "    vitesse: float = 1.\n",
    "    def energie_cinetique(self) -> float:\n",
    "        return (self.poids * self.vitesse ** 2) / 2\n",
    "\n",
    "corps1 = Corps('Ballon', 200, 5)\n",
    "corps1.energie_cinetique()\n",
    "\n",
    "@dataclass\n",
    "class Ballon(Corps):\n",
    "    forme: str\n",
    "    rayon: float\n",
    "    surface: float = field(init=False)\n",
    "    \n",
    "    def __post_init__(self):\n",
    "        self.surface = self.rayon ** 2\n"
   ]
  },
  {
   "cell_type": "code",
   "execution_count": 19,
   "metadata": {},
   "outputs": [
    {
     "name": "stdout",
     "output_type": "stream",
     "text": [
      "aboyer\n"
     ]
    }
   ],
   "source": [
    "# Méthodes abstraites\n",
    "# S'assurer que les sous-classes implémentent ces méthodes\n",
    "from abc import ABC, abstractmethod\n",
    "\n",
    "class Animal(ABC):\n",
    "    @abstractmethod\n",
    "    def faire_du_bruit(self):\n",
    "        pass\n",
    "\n",
    "class Chien(Animal):\n",
    "    def faire_du_bruit(self): # si la sous-classe ne fournit pas cette méthode\n",
    "        return \"aboyer\"       # elle ne sera pas instanciable\n",
    "    \n",
    "class Chat(Animal):\n",
    "    def faire_du_bruit(self):\n",
    "        return \"Miauler\"\n",
    "\n",
    "chien = Chien()\n",
    "print(chien.faire_du_bruit())\n"
   ]
  },
  {
   "cell_type": "code",
   "execution_count": 25,
   "metadata": {},
   "outputs": [
    {
     "name": "stdout",
     "output_type": "stream",
     "text": [
      "Jean, 67 ans\n",
      "Personne(nom='Jean', age=67)\n"
     ]
    }
   ],
   "source": [
    "# __str__, __init__, __repr__\n",
    "# méthodes magiques, dunder methods (double underscore)\n",
    "# __str__ : représente en string un objet str() et print()\n",
    "# __repr__ : plus détaillé que __str__, donne les attributs et leurs valeurs\n",
    "class Personne:\n",
    "    def __init__(self, nom, age):\n",
    "        self.nom = nom\n",
    "        self.age = age\n",
    "    \n",
    "    def __str__(self) -> str:\n",
    "        return f\"{self.nom}, {self.age} ans\"\n",
    "    \n",
    "    def __repr__(self) -> str:\n",
    "        return f\"Personne(nom='{self.nom}', age={self.age})\"\n",
    "\n",
    "personne = Personne(\"Jean\",67)\n",
    "print(personne) # str(personne)\n",
    "print(repr(personne))"
   ]
  },
  {
   "cell_type": "code",
   "execution_count": null,
   "metadata": {},
   "outputs": [],
   "source": [
    "## existe aussi __getitem__ __setitem__\n",
    "# __len__ ==> classe qui prend une liste ==> __len__ ==> len(liste_de_membres)\n",
    "# len(instance_de_classe) ==> calcul len(liste_membres_dans_instance)\n",
    "groupe = Groupe()\n",
    "len(groupe) # au lieu de len(groupe.liste)\n"
   ]
  }
 ],
 "metadata": {
  "kernelspec": {
   "display_name": "Python 3",
   "language": "python",
   "name": "python3"
  },
  "language_info": {
   "codemirror_mode": {
    "name": "ipython",
    "version": 3
   },
   "file_extension": ".py",
   "mimetype": "text/x-python",
   "name": "python",
   "nbconvert_exporter": "python",
   "pygments_lexer": "ipython3",
   "version": "3.11.0"
  }
 },
 "nbformat": 4,
 "nbformat_minor": 2
}
